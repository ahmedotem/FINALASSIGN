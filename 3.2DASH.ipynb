{
 "cells": [
  {
   "cell_type": "code",
   "execution_count": 4,
   "outputs": [],
   "source": [
    "# Import required libraries\n",
    "import pandas as pd\n",
    "import dash\n",
    "from dash import html, dcc\n",
    "from dash.dependencies import Input, Output\n",
    "import plotly.express as px"
   ],
   "metadata": {
    "collapsed": false,
    "ExecuteTime": {
     "end_time": "2024-02-25T17:24:19.921261Z",
     "start_time": "2024-02-25T17:24:19.914322Z"
    }
   },
   "id": "cb4a2c81d94e34a1"
  },
  {
   "cell_type": "code",
   "execution_count": 5,
   "outputs": [
    {
     "data": {
      "text/plain": "   Unnamed: 0  Flight Number  Launch Site  class  Payload Mass (kg)  \\\n0           0              1  CCAFS LC-40      0                0.0   \n1           1              2  CCAFS LC-40      0                0.0   \n2           2              3  CCAFS LC-40      0              525.0   \n3           3              4  CCAFS LC-40      0              500.0   \n4           4              5  CCAFS LC-40      0              677.0   \n\n  Booster Version Booster Version Category  \n0  F9 v1.0  B0003                     v1.0  \n1  F9 v1.0  B0004                     v1.0  \n2  F9 v1.0  B0005                     v1.0  \n3  F9 v1.0  B0006                     v1.0  \n4  F9 v1.0  B0007                     v1.0  ",
      "text/html": "<div>\n<style scoped>\n    .dataframe tbody tr th:only-of-type {\n        vertical-align: middle;\n    }\n\n    .dataframe tbody tr th {\n        vertical-align: top;\n    }\n\n    .dataframe thead th {\n        text-align: right;\n    }\n</style>\n<table border=\"1\" class=\"dataframe\">\n  <thead>\n    <tr style=\"text-align: right;\">\n      <th></th>\n      <th>Unnamed: 0</th>\n      <th>Flight Number</th>\n      <th>Launch Site</th>\n      <th>class</th>\n      <th>Payload Mass (kg)</th>\n      <th>Booster Version</th>\n      <th>Booster Version Category</th>\n    </tr>\n  </thead>\n  <tbody>\n    <tr>\n      <th>0</th>\n      <td>0</td>\n      <td>1</td>\n      <td>CCAFS LC-40</td>\n      <td>0</td>\n      <td>0.0</td>\n      <td>F9 v1.0  B0003</td>\n      <td>v1.0</td>\n    </tr>\n    <tr>\n      <th>1</th>\n      <td>1</td>\n      <td>2</td>\n      <td>CCAFS LC-40</td>\n      <td>0</td>\n      <td>0.0</td>\n      <td>F9 v1.0  B0004</td>\n      <td>v1.0</td>\n    </tr>\n    <tr>\n      <th>2</th>\n      <td>2</td>\n      <td>3</td>\n      <td>CCAFS LC-40</td>\n      <td>0</td>\n      <td>525.0</td>\n      <td>F9 v1.0  B0005</td>\n      <td>v1.0</td>\n    </tr>\n    <tr>\n      <th>3</th>\n      <td>3</td>\n      <td>4</td>\n      <td>CCAFS LC-40</td>\n      <td>0</td>\n      <td>500.0</td>\n      <td>F9 v1.0  B0006</td>\n      <td>v1.0</td>\n    </tr>\n    <tr>\n      <th>4</th>\n      <td>4</td>\n      <td>5</td>\n      <td>CCAFS LC-40</td>\n      <td>0</td>\n      <td>677.0</td>\n      <td>F9 v1.0  B0007</td>\n      <td>v1.0</td>\n    </tr>\n  </tbody>\n</table>\n</div>"
     },
     "execution_count": 5,
     "metadata": {},
     "output_type": "execute_result"
    }
   ],
   "source": [
    "# Read the airline data into pandas dataframe\n",
    "spacex_df = pd.read_csv(\"spacex_launch_dash.csv\")\n",
    "max_payload = spacex_df['Payload Mass (kg)'].max()\n",
    "min_payload = spacex_df['Payload Mass (kg)'].min()\n",
    "\n",
    "spacex_df.head()\n"
   ],
   "metadata": {
    "collapsed": false,
    "ExecuteTime": {
     "end_time": "2024-02-25T17:24:19.940717Z",
     "start_time": "2024-02-25T17:24:19.917624Z"
    }
   },
   "id": "7f448606c64862b4"
  },
  {
   "cell_type": "code",
   "execution_count": 6,
   "outputs": [],
   "source": [
    "# Create a dash application\n",
    "app = dash.Dash(__name__)\n"
   ],
   "metadata": {
    "collapsed": false,
    "ExecuteTime": {
     "end_time": "2024-02-25T17:24:19.950135Z",
     "start_time": "2024-02-25T17:24:19.932491Z"
    }
   },
   "id": "c709a72f976864fe"
  },
  {
   "cell_type": "code",
   "execution_count": 8,
   "outputs": [],
   "source": [
    "# Create an app layout\n",
    "app.layout = html.Div(children=[\n",
    "    html.H1('SpaceX Launch Records Dashboard', style={'textAlign': 'center', 'color': '#503D36', 'font-size': 40}),\n",
    "    \n",
    "    # TASK 1: Add a dropdown list to enable Launch Site selection\n",
    "    # The default select value is for ALL sites\n",
    "    dcc.Dropdown(id='site-dropdown',\n",
    "                 options=[{'label': 'All Sites', 'value': 'ALL'}] +\n",
    "                         [{'label': i, 'value': i} for i in spacex_df['Launch Site'].unique()],\n",
    "                 value='ALL',\n",
    "                 placeholder=\"Select a Launch Site here\",\n",
    "                 searchable=True\n",
    "                 ),\n",
    "    html.Br(),\n",
    "\n",
    "    # TASK 2: Add a pie chart to show the total successful launches count for all sites\n",
    "    # If a specific launch site was selected, show the Success vs. Failed counts for the site\n",
    "    html.Div(dcc.Graph(id='success-pie-chart')),\n",
    "    html.Br(),\n",
    "\n",
    "    html.P(\"Payload range (Kg):\"),\n",
    "    \n",
    "    # TASK 3: Add a slider to select payload range\n",
    "    dcc.RangeSlider(id='payload-slider',\n",
    "                    min=0, max=10000, step=1000,\n",
    "                    marks={0: '0',\n",
    "                           10000: '10000'},\n",
    "                    value=[min_payload, max_payload]),\n",
    "\n",
    "    # TASK 4: Add a scatter chart to show the correlation between payload and launch success\n",
    "    html.Div(dcc.Graph(id='success-payload-scatter-chart')),\n",
    "])\n"
   ],
   "metadata": {
    "collapsed": false,
    "ExecuteTime": {
     "end_time": "2024-02-25T17:26:18.067717Z",
     "start_time": "2024-02-25T17:26:18.058534Z"
    }
   },
   "id": "3a7d9cb0206f62b0"
  },
  {
   "cell_type": "code",
   "execution_count": 9,
   "outputs": [],
   "source": [
    "# TASK 2:\n",
    "# Add a callback function for `site-dropdown` as input, `success-pie-chart` as output\n",
    "@app.callback(\n",
    "    Output('success-pie-chart', 'figure'),\n",
    "    [Input('site-dropdown', 'value')]\n",
    ")\n",
    "def update_pie_chart(selected_site):\n",
    "    if selected_site == 'ALL':\n",
    "        fig = px.pie(spacex_df, values='class', names='Launch Site', title='Total Success Launches By Site')\n",
    "    else:\n",
    "        filtered_df = spacex_df[spacex_df['Launch Site'] == selected_site]\n",
    "        fig = px.pie(filtered_df, names='class', title=f'Total Success Launches for site {selected_site}')\n",
    "    return fig\n"
   ],
   "metadata": {
    "collapsed": false,
    "ExecuteTime": {
     "end_time": "2024-02-25T17:26:19.284076Z",
     "start_time": "2024-02-25T17:26:19.281234Z"
    }
   },
   "id": "9c7584ea26067aa3"
  },
  {
   "cell_type": "code",
   "execution_count": 10,
   "outputs": [],
   "source": [
    "# TASK 4:\n",
    "# Add a callback function for `site-dropdown` and `payload-slider` as inputs, `success-payload-scatter-chart` as output\n",
    "@app.callback(\n",
    "    Output('success-payload-scatter-chart', 'figure'),\n",
    "    [Input('site-dropdown', 'value'), Input('payload-slider', 'value')]\n",
    ")\n",
    "def update_scatter_chart(selected_site, payload_range):\n",
    "    filtered_df = spacex_df[(spacex_df['Payload Mass (kg)'] >= payload_range[0]) & \n",
    "                            (spacex_df['Payload Mass (kg)'] <= payload_range[1])]\n",
    "    if selected_site != 'ALL':\n",
    "        filtered_df = filtered_df[filtered_df['Launch Site'] == selected_site]\n",
    "    fig = px.scatter(filtered_df, x='Payload Mass (kg)', y='class', color=\"Booster Version Category\",\n",
    "                     title='Correlation between Payload and Success for all Sites' if selected_site == 'ALL'\n",
    "                     else f'Correlation between Payload and Success for {selected_site}')\n",
    "    return fig"
   ],
   "metadata": {
    "collapsed": false,
    "ExecuteTime": {
     "end_time": "2024-02-25T17:26:20.538201Z",
     "start_time": "2024-02-25T17:26:20.530187Z"
    }
   },
   "id": "260c7864ca636926"
  },
  {
   "cell_type": "code",
   "execution_count": 11,
   "outputs": [
    {
     "data": {
      "text/plain": "<IPython.lib.display.IFrame at 0x12ea96940>",
      "text/html": "\n        <iframe\n            width=\"100%\"\n            height=\"650\"\n            src=\"http://127.0.0.1:8050/\"\n            frameborder=\"0\"\n            allowfullscreen\n            \n        ></iframe>\n        "
     },
     "metadata": {},
     "output_type": "display_data"
    }
   ],
   "source": [
    "\n",
    "# Run the app\n",
    "if __name__ == '__main__':\n",
    "    app.run_server(debug=True)\n"
   ],
   "metadata": {
    "collapsed": false,
    "ExecuteTime": {
     "end_time": "2024-02-25T17:26:21.223152Z",
     "start_time": "2024-02-25T17:26:21.119504Z"
    }
   },
   "id": "81ca3f37179acb66"
  },
  {
   "cell_type": "code",
   "execution_count": null,
   "outputs": [],
   "source": [],
   "metadata": {
    "collapsed": false
   },
   "id": "b140cbf4ebdda261"
  }
 ],
 "metadata": {
  "kernelspec": {
   "display_name": "Python 3",
   "language": "python",
   "name": "python3"
  },
  "language_info": {
   "codemirror_mode": {
    "name": "ipython",
    "version": 2
   },
   "file_extension": ".py",
   "mimetype": "text/x-python",
   "name": "python",
   "nbconvert_exporter": "python",
   "pygments_lexer": "ipython2",
   "version": "2.7.6"
  }
 },
 "nbformat": 4,
 "nbformat_minor": 5
}
